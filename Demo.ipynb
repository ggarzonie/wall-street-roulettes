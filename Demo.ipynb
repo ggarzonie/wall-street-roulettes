{
 "cells": [
  {
   "cell_type": "code",
   "execution_count": 4,
   "metadata": {},
   "outputs": [],
   "source": [
    "import main"
   ]
  },
  {
   "cell_type": "markdown",
   "metadata": {},
   "source": [
    "The front function takes a list of stock tickers, expiration dates or number of expiration dates to download, and ideal odds of winning the maximum payout. You are provided with a list of pairs of options contracts to buy and sell, the cost, the maximum payout, the odds of winning the maximum payout, the odds of winning something less than the maximum payout ('badodds'), and expected value calculated ignoring 'badodds' outcomes."
   ]
  },
  {
   "cell_type": "code",
   "execution_count": null,
   "metadata": {},
   "outputs": [],
   "source": [
    "tickers = ['TSLA','MSFT','AAPL']\n",
    "expdate = 1 \n",
    "odds = .2\n",
    "\n",
    "main.front(tickers, expdate, odds)[['corp','contract1','contract2','cost','maxpay','odds','badodds','eval']]"
   ]
  },
  {
   "cell_type": "markdown",
   "metadata": {},
   "source": [
    "In the case where 'corp' (call or put) is 'c' (call) the row represents a bull call spread performed on the two contracts. This means you would buy contract1 and sell contract2. If it is 'p' (put) then the information represents a bear put spread, you would sell contract1 and buy contract2."
   ]
  }
 ],
 "metadata": {
  "kernelspec": {
   "display_name": "wsrnb",
   "language": "python",
   "name": "python3"
  },
  "language_info": {
   "codemirror_mode": {
    "name": "ipython",
    "version": 3
   },
   "file_extension": ".py",
   "mimetype": "text/x-python",
   "name": "python",
   "nbconvert_exporter": "python",
   "pygments_lexer": "ipython3",
   "version": "3.11.4"
  },
  "orig_nbformat": 4
 },
 "nbformat": 4,
 "nbformat_minor": 2
}
